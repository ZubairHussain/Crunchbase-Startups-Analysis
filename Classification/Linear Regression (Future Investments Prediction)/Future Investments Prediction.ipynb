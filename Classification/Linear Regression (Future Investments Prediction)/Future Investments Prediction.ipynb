{
 "cells": [
  {
   "cell_type": "markdown",
   "metadata": {},
   "source": [
    "# Linear Regression"
   ]
  },
  {
   "cell_type": "markdown",
   "metadata": {},
   "source": [
    "#### Classifier will predict future total investment per year "
   ]
  },
  {
   "cell_type": "markdown",
   "metadata": {},
   "source": [
    "### Creating Dataset......"
   ]
  },
  {
   "cell_type": "code",
   "execution_count": 1,
   "metadata": {
    "collapsed": true
   },
   "outputs": [],
   "source": [
    "import pandas as pd\n",
    "import numpy as np\n",
    "from sklearn import linear_model\n",
    "from sklearn.cross_validation import train_test_split\n",
    "import matplotlib.pyplot as plt\n",
    "import plotly.plotly as py"
   ]
  },
  {
   "cell_type": "code",
   "execution_count": 2,
   "metadata": {
    "collapsed": false
   },
   "outputs": [],
   "source": [
    "Companies = pd.read_csv('../Dataset/Companies.csv')"
   ]
  },
  {
   "cell_type": "code",
   "execution_count": 3,
   "metadata": {
    "collapsed": false
   },
   "outputs": [
    {
     "name": "stdout",
     "output_type": "stream",
     "text": [
      "Index([u'name', u'category_code', u'funding_total_usd', u'status',\n",
      "       u'country_code', u'state_code', u'region', u'city', u'funding_rounds',\n",
      "       u'founded_year'],\n",
      "      dtype='object')\n"
     ]
    }
   ],
   "source": [
    "print Companies.columns"
   ]
  },
  {
   "cell_type": "code",
   "execution_count": 4,
   "metadata": {
    "collapsed": false
   },
   "outputs": [],
   "source": [
    "Companies.drop(['funding_rounds','founded_year'],axis=1,inplace=True)"
   ]
  },
  {
   "cell_type": "code",
   "execution_count": 5,
   "metadata": {
    "collapsed": false
   },
   "outputs": [
    {
     "name": "stdout",
     "output_type": "stream",
     "text": [
      "37875\n",
      "37875\n",
      "750,000\n"
     ]
    }
   ],
   "source": [
    "print len(Companies)\n",
    "print len(np.unique(Companies['name']))\n",
    "print Companies['funding_total_usd'][0]"
   ]
  },
  {
   "cell_type": "code",
   "execution_count": 6,
   "metadata": {
    "collapsed": false
   },
   "outputs": [],
   "source": [
    "Rounds = pd.read_csv('../Dataset/Rounds.csv')"
   ]
  },
  {
   "cell_type": "code",
   "execution_count": 7,
   "metadata": {
    "collapsed": false
   },
   "outputs": [
    {
     "name": "stdout",
     "output_type": "stream",
     "text": [
      "Index([u'company_name', u'funding_round_type', u'funded_year',\n",
      "       u' raised_amount_usd '],\n",
      "      dtype='object')\n"
     ]
    }
   ],
   "source": [
    "print Rounds.columns"
   ]
  },
  {
   "cell_type": "code",
   "execution_count": 8,
   "metadata": {
    "collapsed": true
   },
   "outputs": [],
   "source": [
    "Rounds.rename(columns={'company_name':'name'},inplace=True)"
   ]
  },
  {
   "cell_type": "code",
   "execution_count": 9,
   "metadata": {
    "collapsed": false
   },
   "outputs": [
    {
     "name": "stdout",
     "output_type": "stream",
     "text": [
      "Index([u'name', u'funding_round_type', u'funded_year', u' raised_amount_usd '], dtype='object')\n"
     ]
    }
   ],
   "source": [
    "print Rounds.columns"
   ]
  },
  {
   "cell_type": "code",
   "execution_count": 10,
   "metadata": {
    "collapsed": false
   },
   "outputs": [
    {
     "name": "stdout",
     "output_type": "stream",
     "text": [
      "['angel' 'crowdfunding' 'other' 'post-ipo' 'private-equity' 'series-a'\n",
      " 'series-b' 'series-c+' 'venture']\n"
     ]
    }
   ],
   "source": [
    "print np.unique(Rounds.funding_round_type)"
   ]
  },
  {
   "cell_type": "code",
   "execution_count": 11,
   "metadata": {
    "collapsed": false
   },
   "outputs": [],
   "source": [
    "data = pd.merge(Companies,Rounds,how='inner',on='name')"
   ]
  },
  {
   "cell_type": "code",
   "execution_count": 12,
   "metadata": {
    "collapsed": false
   },
   "outputs": [
    {
     "name": "stdout",
     "output_type": "stream",
     "text": [
      "Index([u'name', u'category_code', u'funding_total_usd', u'status',\n",
      "       u'country_code', u'state_code', u'region', u'city',\n",
      "       u'funding_round_type', u'funded_year', u' raised_amount_usd '],\n",
      "      dtype='object')\n",
      "64107\n"
     ]
    }
   ],
   "source": [
    "print data.columns\n",
    "print len(data)"
   ]
  },
  {
   "cell_type": "code",
   "execution_count": 13,
   "metadata": {
    "collapsed": false
   },
   "outputs": [
    {
     "name": "stdout",
     "output_type": "stream",
     "text": [
      "Index([u'funded_year', u'raised_amount_usd'], dtype='object')\n"
     ]
    }
   ],
   "source": [
    "new_data = pd.DataFrame()\n",
    "new_data['funded_year'] = data['funded_year'].copy()\n",
    "new_data['raised_amount_usd'] = data[' raised_amount_usd '].copy()\n",
    "print new_data.columns"
   ]
  },
  {
   "cell_type": "markdown",
   "metadata": {},
   "source": [
    "#### Removing Noise from the dataset"
   ]
  },
  {
   "cell_type": "code",
   "execution_count": 14,
   "metadata": {
    "collapsed": false
   },
   "outputs": [],
   "source": [
    "new_data = new_data[new_data.funded_year.notnull()]\n",
    "new_data = new_data[new_data.raised_amount_usd.notnull()]"
   ]
  },
  {
   "cell_type": "code",
   "execution_count": 15,
   "metadata": {
    "collapsed": false
   },
   "outputs": [
    {
     "name": "stdout",
     "output_type": "stream",
     "text": [
      "56049\n"
     ]
    }
   ],
   "source": [
    "print len(new_data)"
   ]
  },
  {
   "cell_type": "code",
   "execution_count": 16,
   "metadata": {
    "collapsed": false
   },
   "outputs": [],
   "source": [
    "new_data['raised_amount_usd'] = new_data['raised_amount_usd'].str.replace(',','')\n",
    "new_data['raised_amount_usd'] = new_data['raised_amount_usd'].astype(long)"
   ]
  },
  {
   "cell_type": "code",
   "execution_count": 17,
   "metadata": {
    "collapsed": false
   },
   "outputs": [],
   "source": [
    "new_data.to_csv('data.csv')"
   ]
  },
  {
   "cell_type": "code",
   "execution_count": 18,
   "metadata": {
    "collapsed": false
   },
   "outputs": [],
   "source": [
    "funded_years = np.unique(new_data.funded_year).copy()\n",
    "Data = pd.DataFrame()\n",
    "Data['funded_years'] = funded_years\n",
    "result = 0.0\n",
    "Data['raised_amount_usd'] = 0\n",
    "Data['raised_amount_usd'] = Data['raised_amount_usd'].astype(long)\n",
    "\n",
    "for year in funded_years:\n",
    "    result = 0.0\n",
    "    Index = Data.funded_years[Data.funded_years==year].index\n",
    "    indexes = (new_data[new_data['funded_year']==year].index.tolist())\n",
    "    for i in indexes:\n",
    "        if i <= 56047:\n",
    "            result += new_data.at[i,'raised_amount_usd']\n",
    "    Data.at[Index,'raised_amount_usd'] = result\n",
    "            "
   ]
  },
  {
   "cell_type": "code",
   "execution_count": 19,
   "metadata": {
    "collapsed": false
   },
   "outputs": [
    {
     "name": "stdout",
     "output_type": "stream",
     "text": [
      "    funded_years  raised_amount_usd\n",
      "0           1960           52736030\n",
      "1           1984             173444\n",
      "2           1987            2500000\n",
      "3           1989              15000\n",
      "4           1990            1000000\n",
      "5           1992                  0\n",
      "6           1993             125000\n",
      "7           1994            1740000\n",
      "8           1995           19000000\n",
      "9           1996            8012500\n",
      "10          1997           74800000\n",
      "11          1998          167609790\n",
      "12          1999          603015573\n",
      "13          2000         1467477148\n",
      "14          2001          806074412\n",
      "15          2002          769409353\n",
      "16          2003          938289343\n",
      "17          2004         2200265765\n",
      "18          2005        13343014221\n",
      "19          2006        97211353795\n",
      "20          2007        24706240065\n",
      "21          2008        34674627064\n",
      "22          2009        43656872957\n",
      "23          2010        52394688617\n",
      "24          2011        57095895742\n",
      "25          2012        50600929455\n",
      "26          2013        85564918157\n",
      "27          2014        32281212697\n"
     ]
    }
   ],
   "source": [
    "print Data\n",
    "Data.to_csv(\"Investments_by_year.csv\")"
   ]
  },
  {
   "cell_type": "markdown",
   "metadata": {},
   "source": [
    "Changing datatype of features to integer"
   ]
  },
  {
   "cell_type": "code",
   "execution_count": 20,
   "metadata": {
    "collapsed": false
   },
   "outputs": [],
   "source": [
    "Data['funded_years'] = Data['funded_years'].astype(int)\n",
    "Data['raised_amount_usd'] = Data['raised_amount_usd'].astype(long)\n"
   ]
  },
  {
   "cell_type": "markdown",
   "metadata": {},
   "source": [
    "#### Creating training and test set by 70 % and 30% ratio"
   ]
  },
  {
   "cell_type": "code",
   "execution_count": 21,
   "metadata": {
    "collapsed": false
   },
   "outputs": [],
   "source": [
    "Y = Data.raised_amount_usd\n",
    "\n",
    "Data.drop(['raised_amount_usd'],axis=1,inplace=True)"
   ]
  },
  {
   "cell_type": "code",
   "execution_count": 42,
   "metadata": {
    "collapsed": false
   },
   "outputs": [
    {
     "name": "stdout",
     "output_type": "stream",
     "text": [
      "Index([u'funded_years'], dtype='object')\n",
      "0    52736030\n",
      "1      173444\n",
      "2     2500000\n",
      "Name: raised_amount_usd, dtype: int64\n",
      "28\n"
     ]
    }
   ],
   "source": [
    "print Data.columns\n",
    "print Y[:3]\n",
    "print len(np.unique(Y))"
   ]
  },
  {
   "cell_type": "code",
   "execution_count": 55,
   "metadata": {
    "collapsed": false
   },
   "outputs": [],
   "source": [
    "X_train, X_test, Y_train, Y_test = train_test_split(Data,Y,test_size=0.3)"
   ]
  },
  {
   "cell_type": "code",
   "execution_count": 56,
   "metadata": {
    "collapsed": false
   },
   "outputs": [
    {
     "name": "stdout",
     "output_type": "stream",
     "text": [
      "Xtrain :  (19, 1)\n",
      "Xtest :  (9, 1)\n",
      "Ytrain :  (19L,)\n",
      "Ytest :  (9L,)\n"
     ]
    }
   ],
   "source": [
    "print \"Xtrain : \",X_train.shape\n",
    "print \"Xtest : \",X_test.shape\n",
    "print \"Ytrain : \",Y_train.shape\n",
    "print \"Ytest : \",Y_test.shape"
   ]
  },
  {
   "cell_type": "markdown",
   "metadata": {},
   "source": [
    "### Classification"
   ]
  },
  {
   "cell_type": "code",
   "execution_count": 57,
   "metadata": {
    "collapsed": true
   },
   "outputs": [],
   "source": [
    "import matplotlib.pyplot as plt\n",
    "from sklearn import linear_model"
   ]
  },
  {
   "cell_type": "code",
   "execution_count": 58,
   "metadata": {
    "collapsed": true
   },
   "outputs": [],
   "source": [
    "classifier = linear_model.LinearRegression()"
   ]
  },
  {
   "cell_type": "code",
   "execution_count": 59,
   "metadata": {
    "collapsed": false
   },
   "outputs": [
    {
     "data": {
      "text/plain": [
       "LinearRegression(copy_X=True, fit_intercept=True, n_jobs=1, normalize=False)"
      ]
     },
     "execution_count": 59,
     "metadata": {},
     "output_type": "execute_result"
    }
   ],
   "source": [
    "classifier.fit(X_train,Y_train)"
   ]
  },
  {
   "cell_type": "code",
   "execution_count": 60,
   "metadata": {
    "collapsed": false
   },
   "outputs": [
    {
     "name": "stdout",
     "output_type": "stream",
     "text": [
      "('Coefficients: \\n', array([  2.22989557e+09]))\n",
      "Residual sum of squares: 1203599787828744552448.00\n",
      "Variance score: -0.23\n"
     ]
    }
   ],
   "source": [
    "# The coefficients\n",
    "print('Coefficients: \\n', classifier.coef_)\n",
    "# The mean square error\n",
    "print(\"Residual sum of squares: %.2f\"\n",
    "      % np.mean((classifier.predict(X_test) - Y_test) ** 2))\n",
    "# Explained variance score: 1 is perfect prediction\n",
    "print('Variance score: %.2f' % classifier.score(X_test, Y_test))\n"
   ]
  },
  {
   "cell_type": "code",
   "execution_count": 61,
   "metadata": {
    "collapsed": true
   },
   "outputs": [],
   "source": [
    "# Plot outputs\n",
    "plt.scatter(X_test, Y_test,  color='black')\n",
    "plt.plot(X_test, classifier.predict(X_test), color='blue',\n",
    "         linewidth=3)\n",
    "\n",
    "plt.xticks(())\n",
    "plt.yticks(())\n",
    "\n",
    "plt.show()"
   ]
  },
  {
   "cell_type": "markdown",
   "metadata": {},
   "source": [
    "#### Total Investment Prediction for 2020"
   ]
  },
  {
   "cell_type": "code",
   "execution_count": 76,
   "metadata": {
    "collapsed": false
   },
   "outputs": [
    {
     "name": "stderr",
     "output_type": "stream",
     "text": [
      "C:\\Users\\zubai\\Anaconda2\\lib\\site-packages\\sklearn\\utils\\validation.py:386: DeprecationWarning:\n",
      "\n",
      "Passing 1d arrays as data is deprecated in 0.17 and willraise ValueError in 0.19. Reshape your data either using X.reshape(-1, 1) if your data has a single feature or X.reshape(1, -1) if it contains a single sample.\n",
      "\n"
     ]
    }
   ],
   "source": [
    "#prediction for 2020\n",
    "test = ['2015']\n",
    "test = map(int,test)\n",
    "test = np.array(test)\n",
    "prediction = classifier.predict(test)"
   ]
  },
  {
   "cell_type": "code",
   "execution_count": 77,
   "metadata": {
    "collapsed": false
   },
   "outputs": [
    {
     "name": "stdout",
     "output_type": "stream",
     "text": [
      "[  4.90866430e+10]\n"
     ]
    }
   ],
   "source": [
    "print prediction"
   ]
  },
  {
   "cell_type": "code",
   "execution_count": null,
   "metadata": {
    "collapsed": true
   },
   "outputs": [],
   "source": []
  }
 ],
 "metadata": {
  "kernelspec": {
   "display_name": "Python 2",
   "language": "python",
   "name": "python2"
  },
  "language_info": {
   "codemirror_mode": {
    "name": "ipython",
    "version": 2
   },
   "file_extension": ".py",
   "mimetype": "text/x-python",
   "name": "python",
   "nbconvert_exporter": "python",
   "pygments_lexer": "ipython2",
   "version": "2.7.11"
  }
 },
 "nbformat": 4,
 "nbformat_minor": 0
}
