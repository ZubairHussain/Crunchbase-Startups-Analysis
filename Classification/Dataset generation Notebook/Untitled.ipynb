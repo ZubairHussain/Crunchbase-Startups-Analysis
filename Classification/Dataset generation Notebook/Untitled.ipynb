{
 "cells": [
  {
   "cell_type": "markdown",
   "metadata": {},
   "source": [
    "# Data Visualisation"
   ]
  },
  {
   "cell_type": "code",
   "execution_count": 1,
   "metadata": {
    "collapsed": true
   },
   "outputs": [],
   "source": [
    "import pandas as pd\n",
    "import numpy as np\n",
    "from sklearn.cross_validation import train_test_split\n",
    "import matplotlib.pyplot as plt\n",
    "import plotly.plotly as py"
   ]
  },
  {
   "cell_type": "code",
   "execution_count": 2,
   "metadata": {
    "collapsed": true
   },
   "outputs": [],
   "source": [
    "Companies = pd.read_csv('../Dataset/Companies.csv')"
   ]
  },
  {
   "cell_type": "code",
   "execution_count": 3,
   "metadata": {
    "collapsed": false
   },
   "outputs": [
    {
     "name": "stderr",
     "output_type": "stream",
     "text": [
      "C:\\Users\\zubai\\Anaconda2\\lib\\site-packages\\IPython\\core\\interactiveshell.py:2902: DtypeWarning:\n",
      "\n",
      "Columns (2) have mixed types. Specify dtype option on import or set low_memory=False.\n",
      "\n"
     ]
    }
   ],
   "source": [
    "Investments = pd.read_csv('../Dataset/Investments.csv')"
   ]
  },
  {
   "cell_type": "code",
   "execution_count": 4,
   "metadata": {
    "collapsed": false
   },
   "outputs": [],
   "source": [
    "Investments.rename(columns={'company_name':'name'},inplace=True)"
   ]
  },
  {
   "cell_type": "code",
   "execution_count": 5,
   "metadata": {
    "collapsed": true
   },
   "outputs": [],
   "source": [
    "data = pd.merge(Companies,Investments,how='inner',on='name')"
   ]
  },
  {
   "cell_type": "code",
   "execution_count": 6,
   "metadata": {
    "collapsed": false
   },
   "outputs": [
    {
     "name": "stdout",
     "output_type": "stream",
     "text": [
      "Index([u'name', u'category_code', u'funding_total_usd', u'status',\n",
      "       u'country_code', u'state_code', u'region', u'city', u'funding_rounds',\n",
      "       u'founded_year', u'investor_name', u'investor_category_code',\n",
      "       u'investor_country_code', u'investor_state_code', u'investor_region',\n",
      "       u'investor_city', u'funding_round_type', u'funded_at', u'funded_month',\n",
      "       u'funded_quarter', u'funded_year', u' raised_amount_usd '],\n",
      "      dtype='object')\n"
     ]
    }
   ],
   "source": [
    "print data.columns"
   ]
  },
  {
   "cell_type": "code",
   "execution_count": 7,
   "metadata": {
    "collapsed": false
   },
   "outputs": [],
   "source": [
    "Data = pd.DataFrame()\n",
    "Data['country_code'] = data.country_code.copy()\n",
    "Data['raised_amount_usd'] = data[' raised_amount_usd '].copy()"
   ]
  },
  {
   "cell_type": "code",
   "execution_count": 8,
   "metadata": {
    "collapsed": false
   },
   "outputs": [
    {
     "name": "stdout",
     "output_type": "stream",
     "text": [
      "78267\n"
     ]
    }
   ],
   "source": [
    "Data = Data[Data.country_code.notnull()]\n",
    "Data = Data[Data.raised_amount_usd.notnull()]\n",
    "print len(Data)"
   ]
  },
  {
   "cell_type": "code",
   "execution_count": 9,
   "metadata": {
    "collapsed": false
   },
   "outputs": [
    {
     "name": "stdout",
     "output_type": "stream",
     "text": [
      "['ALB' 'ANT' 'ARE' 'ARG' 'AUS' 'AUT' 'AZE' 'BEL' 'BGD' 'BGR' 'BHR' 'BHS'\n",
      " 'BMU' 'BRA' 'CAN' 'CHE' 'CHL' 'CHN' 'COL' 'CRI' 'CSS' 'CYM' 'CYP' 'CZE'\n",
      " 'DEU' 'DNK' 'DOM' 'ECU' 'EGY' 'ESP' 'EST' 'FIN' 'FRA' 'FST' 'GBR' 'GEO'\n",
      " 'GHA' 'GIB' 'GIN' 'GRC' 'GTM' 'HKG' 'HRV' 'HUN' 'IDN' 'IND' 'IRL' 'ISL'\n",
      " 'ISR' 'ITA' 'JOR' 'JPN' 'KEN' 'KOR' 'LBN' 'LKA' 'LTU' 'LUX' 'LVA' 'MAR'\n",
      " 'MCO' 'MEX' 'MKD' 'MLT' 'MYS' 'NGA' 'NLD' 'NOR' 'NPL' 'NZL' 'OMN' 'PAK'\n",
      " 'PAN' 'PER' 'PHL' 'POL' 'PRT' 'PST' 'ROM' 'RUS' 'SAU' 'SGP' 'SLV' 'SVK'\n",
      " 'SVN' 'SWE' 'SWZ' 'THA' 'TUN' 'TUR' 'TWN' 'TZA' 'UGA' 'UKR' 'UMI' 'URY'\n",
      " 'USA' 'VEN' 'VNM' 'ZAF' 'ZMB' 'ZWE']\n"
     ]
    }
   ],
   "source": [
    "print np.unique(Data.country_code)"
   ]
  },
  {
   "cell_type": "code",
   "execution_count": 10,
   "metadata": {
    "collapsed": false
   },
   "outputs": [
    {
     "name": "stdout",
     "output_type": "stream",
     "text": [
      "102\n"
     ]
    }
   ],
   "source": [
    "unique_countries = np.unique(Data.country_code)\n",
    "print len(unique_countries)"
   ]
  },
  {
   "cell_type": "code",
   "execution_count": 11,
   "metadata": {
    "collapsed": false
   },
   "outputs": [],
   "source": [
    "Data['raised_amount_usd'] = Data['raised_amount_usd'].str.replace(',','')\n",
    "Data['raised_amount_usd'] = Data['raised_amount_usd'].astype(long)"
   ]
  },
  {
   "cell_type": "code",
   "execution_count": 12,
   "metadata": {
    "collapsed": false
   },
   "outputs": [
    {
     "data": {
      "text/html": [
       "<div>\n",
       "<table border=\"1\" class=\"dataframe\">\n",
       "  <thead>\n",
       "    <tr style=\"text-align: right;\">\n",
       "      <th></th>\n",
       "      <th>country_code</th>\n",
       "      <th>raised_amount_usd</th>\n",
       "    </tr>\n",
       "  </thead>\n",
       "  <tbody>\n",
       "    <tr>\n",
       "      <th>0</th>\n",
       "      <td>BRA</td>\n",
       "      <td>750000</td>\n",
       "    </tr>\n",
       "    <tr>\n",
       "      <th>1</th>\n",
       "      <td>USA</td>\n",
       "      <td>1750000</td>\n",
       "    </tr>\n",
       "    <tr>\n",
       "      <th>2</th>\n",
       "      <td>USA</td>\n",
       "      <td>1750000</td>\n",
       "    </tr>\n",
       "    <tr>\n",
       "      <th>3</th>\n",
       "      <td>USA</td>\n",
       "      <td>1750000</td>\n",
       "    </tr>\n",
       "    <tr>\n",
       "      <th>4</th>\n",
       "      <td>USA</td>\n",
       "      <td>1750000</td>\n",
       "    </tr>\n",
       "    <tr>\n",
       "      <th>5</th>\n",
       "      <td>USA</td>\n",
       "      <td>1750000</td>\n",
       "    </tr>\n",
       "    <tr>\n",
       "      <th>6</th>\n",
       "      <td>EST</td>\n",
       "      <td>40000</td>\n",
       "    </tr>\n",
       "    <tr>\n",
       "      <th>7</th>\n",
       "      <td>ARG</td>\n",
       "      <td>4912394</td>\n",
       "    </tr>\n",
       "    <tr>\n",
       "      <th>8</th>\n",
       "      <td>USA</td>\n",
       "      <td>1700000</td>\n",
       "    </tr>\n",
       "    <tr>\n",
       "      <th>9</th>\n",
       "      <td>CHL</td>\n",
       "      <td>40000</td>\n",
       "    </tr>\n",
       "    <tr>\n",
       "      <th>10</th>\n",
       "      <td>USA</td>\n",
       "      <td>40000</td>\n",
       "    </tr>\n",
       "    <tr>\n",
       "      <th>11</th>\n",
       "      <td>USA</td>\n",
       "      <td>15000</td>\n",
       "    </tr>\n",
       "    <tr>\n",
       "      <th>12</th>\n",
       "      <td>USA</td>\n",
       "      <td>2520000</td>\n",
       "    </tr>\n",
       "    <tr>\n",
       "      <th>13</th>\n",
       "      <td>USA</td>\n",
       "      <td>2520000</td>\n",
       "    </tr>\n",
       "    <tr>\n",
       "      <th>14</th>\n",
       "      <td>USA</td>\n",
       "      <td>15000</td>\n",
       "    </tr>\n",
       "    <tr>\n",
       "      <th>15</th>\n",
       "      <td>USA</td>\n",
       "      <td>2520000</td>\n",
       "    </tr>\n",
       "    <tr>\n",
       "      <th>16</th>\n",
       "      <td>USA</td>\n",
       "      <td>2520000</td>\n",
       "    </tr>\n",
       "    <tr>\n",
       "      <th>17</th>\n",
       "      <td>USA</td>\n",
       "      <td>2520000</td>\n",
       "    </tr>\n",
       "    <tr>\n",
       "      <th>18</th>\n",
       "      <td>USA</td>\n",
       "      <td>2520000</td>\n",
       "    </tr>\n",
       "    <tr>\n",
       "      <th>19</th>\n",
       "      <td>USA</td>\n",
       "      <td>2520000</td>\n",
       "    </tr>\n",
       "    <tr>\n",
       "      <th>20</th>\n",
       "      <td>USA</td>\n",
       "      <td>2520000</td>\n",
       "    </tr>\n",
       "    <tr>\n",
       "      <th>21</th>\n",
       "      <td>FRA</td>\n",
       "      <td>1736910</td>\n",
       "    </tr>\n",
       "    <tr>\n",
       "      <th>22</th>\n",
       "      <td>CHN</td>\n",
       "      <td>3000000</td>\n",
       "    </tr>\n",
       "    <tr>\n",
       "      <th>23</th>\n",
       "      <td>USA</td>\n",
       "      <td>750000</td>\n",
       "    </tr>\n",
       "    <tr>\n",
       "      <th>24</th>\n",
       "      <td>USA</td>\n",
       "      <td>750000</td>\n",
       "    </tr>\n",
       "    <tr>\n",
       "      <th>25</th>\n",
       "      <td>USA</td>\n",
       "      <td>500000</td>\n",
       "    </tr>\n",
       "    <tr>\n",
       "      <th>26</th>\n",
       "      <td>USA</td>\n",
       "      <td>750000</td>\n",
       "    </tr>\n",
       "    <tr>\n",
       "      <th>27</th>\n",
       "      <td>USA</td>\n",
       "      <td>35000000</td>\n",
       "    </tr>\n",
       "    <tr>\n",
       "      <th>28</th>\n",
       "      <td>USA</td>\n",
       "      <td>1800000</td>\n",
       "    </tr>\n",
       "    <tr>\n",
       "      <th>29</th>\n",
       "      <td>AUS</td>\n",
       "      <td>20000</td>\n",
       "    </tr>\n",
       "    <tr>\n",
       "      <th>...</th>\n",
       "      <td>...</td>\n",
       "      <td>...</td>\n",
       "    </tr>\n",
       "    <tr>\n",
       "      <th>78237</th>\n",
       "      <td>USA</td>\n",
       "      <td>15187000</td>\n",
       "    </tr>\n",
       "    <tr>\n",
       "      <th>78238</th>\n",
       "      <td>USA</td>\n",
       "      <td>10000000</td>\n",
       "    </tr>\n",
       "    <tr>\n",
       "      <th>78239</th>\n",
       "      <td>USA</td>\n",
       "      <td>10000000</td>\n",
       "    </tr>\n",
       "    <tr>\n",
       "      <th>78240</th>\n",
       "      <td>USA</td>\n",
       "      <td>25000000</td>\n",
       "    </tr>\n",
       "    <tr>\n",
       "      <th>78241</th>\n",
       "      <td>GBR</td>\n",
       "      <td>3800000</td>\n",
       "    </tr>\n",
       "    <tr>\n",
       "      <th>78242</th>\n",
       "      <td>GBR</td>\n",
       "      <td>3800000</td>\n",
       "    </tr>\n",
       "    <tr>\n",
       "      <th>78243</th>\n",
       "      <td>USA</td>\n",
       "      <td>12000000</td>\n",
       "    </tr>\n",
       "    <tr>\n",
       "      <th>78244</th>\n",
       "      <td>USA</td>\n",
       "      <td>12000000</td>\n",
       "    </tr>\n",
       "    <tr>\n",
       "      <th>78245</th>\n",
       "      <td>MYS</td>\n",
       "      <td>5400000</td>\n",
       "    </tr>\n",
       "    <tr>\n",
       "      <th>78246</th>\n",
       "      <td>MYS</td>\n",
       "      <td>7991548</td>\n",
       "    </tr>\n",
       "    <tr>\n",
       "      <th>78247</th>\n",
       "      <td>MYS</td>\n",
       "      <td>2007363</td>\n",
       "    </tr>\n",
       "    <tr>\n",
       "      <th>78248</th>\n",
       "      <td>MYS</td>\n",
       "      <td>7991548</td>\n",
       "    </tr>\n",
       "    <tr>\n",
       "      <th>78249</th>\n",
       "      <td>USA</td>\n",
       "      <td>50000</td>\n",
       "    </tr>\n",
       "    <tr>\n",
       "      <th>78250</th>\n",
       "      <td>USA</td>\n",
       "      <td>445000</td>\n",
       "    </tr>\n",
       "    <tr>\n",
       "      <th>78251</th>\n",
       "      <td>AUT</td>\n",
       "      <td>2686600</td>\n",
       "    </tr>\n",
       "    <tr>\n",
       "      <th>78252</th>\n",
       "      <td>GBR</td>\n",
       "      <td>120000</td>\n",
       "    </tr>\n",
       "    <tr>\n",
       "      <th>78253</th>\n",
       "      <td>HRV</td>\n",
       "      <td>32360</td>\n",
       "    </tr>\n",
       "    <tr>\n",
       "      <th>78254</th>\n",
       "      <td>HRV</td>\n",
       "      <td>32165</td>\n",
       "    </tr>\n",
       "    <tr>\n",
       "      <th>78255</th>\n",
       "      <td>USA</td>\n",
       "      <td>16000000</td>\n",
       "    </tr>\n",
       "    <tr>\n",
       "      <th>78256</th>\n",
       "      <td>USA</td>\n",
       "      <td>10000000</td>\n",
       "    </tr>\n",
       "    <tr>\n",
       "      <th>78257</th>\n",
       "      <td>USA</td>\n",
       "      <td>17000000</td>\n",
       "    </tr>\n",
       "    <tr>\n",
       "      <th>78258</th>\n",
       "      <td>USA</td>\n",
       "      <td>16000000</td>\n",
       "    </tr>\n",
       "    <tr>\n",
       "      <th>78259</th>\n",
       "      <td>USA</td>\n",
       "      <td>10000000</td>\n",
       "    </tr>\n",
       "    <tr>\n",
       "      <th>78260</th>\n",
       "      <td>USA</td>\n",
       "      <td>16000000</td>\n",
       "    </tr>\n",
       "    <tr>\n",
       "      <th>78261</th>\n",
       "      <td>USA</td>\n",
       "      <td>10000000</td>\n",
       "    </tr>\n",
       "    <tr>\n",
       "      <th>78262</th>\n",
       "      <td>USA</td>\n",
       "      <td>10000000</td>\n",
       "    </tr>\n",
       "    <tr>\n",
       "      <th>78263</th>\n",
       "      <td>USA</td>\n",
       "      <td>12000000</td>\n",
       "    </tr>\n",
       "    <tr>\n",
       "      <th>78264</th>\n",
       "      <td>USA</td>\n",
       "      <td>12000000</td>\n",
       "    </tr>\n",
       "    <tr>\n",
       "      <th>78265</th>\n",
       "      <td>DEU</td>\n",
       "      <td>40000</td>\n",
       "    </tr>\n",
       "    <tr>\n",
       "      <th>78266</th>\n",
       "      <td>CHN</td>\n",
       "      <td>10000</td>\n",
       "    </tr>\n",
       "  </tbody>\n",
       "</table>\n",
       "<p>78267 rows × 2 columns</p>\n",
       "</div>"
      ],
      "text/plain": [
       "      country_code  raised_amount_usd\n",
       "0              BRA             750000\n",
       "1              USA            1750000\n",
       "2              USA            1750000\n",
       "3              USA            1750000\n",
       "4              USA            1750000\n",
       "5              USA            1750000\n",
       "6              EST              40000\n",
       "7              ARG            4912394\n",
       "8              USA            1700000\n",
       "9              CHL              40000\n",
       "10             USA              40000\n",
       "11             USA              15000\n",
       "12             USA            2520000\n",
       "13             USA            2520000\n",
       "14             USA              15000\n",
       "15             USA            2520000\n",
       "16             USA            2520000\n",
       "17             USA            2520000\n",
       "18             USA            2520000\n",
       "19             USA            2520000\n",
       "20             USA            2520000\n",
       "21             FRA            1736910\n",
       "22             CHN            3000000\n",
       "23             USA             750000\n",
       "24             USA             750000\n",
       "25             USA             500000\n",
       "26             USA             750000\n",
       "27             USA           35000000\n",
       "28             USA            1800000\n",
       "29             AUS              20000\n",
       "...            ...                ...\n",
       "78237          USA           15187000\n",
       "78238          USA           10000000\n",
       "78239          USA           10000000\n",
       "78240          USA           25000000\n",
       "78241          GBR            3800000\n",
       "78242          GBR            3800000\n",
       "78243          USA           12000000\n",
       "78244          USA           12000000\n",
       "78245          MYS            5400000\n",
       "78246          MYS            7991548\n",
       "78247          MYS            2007363\n",
       "78248          MYS            7991548\n",
       "78249          USA              50000\n",
       "78250          USA             445000\n",
       "78251          AUT            2686600\n",
       "78252          GBR             120000\n",
       "78253          HRV              32360\n",
       "78254          HRV              32165\n",
       "78255          USA           16000000\n",
       "78256          USA           10000000\n",
       "78257          USA           17000000\n",
       "78258          USA           16000000\n",
       "78259          USA           10000000\n",
       "78260          USA           16000000\n",
       "78261          USA           10000000\n",
       "78262          USA           10000000\n",
       "78263          USA           12000000\n",
       "78264          USA           12000000\n",
       "78265          DEU              40000\n",
       "78266          CHN              10000\n",
       "\n",
       "[78267 rows x 2 columns]"
      ]
     },
     "execution_count": 12,
     "metadata": {},
     "output_type": "execute_result"
    }
   ],
   "source": [
    "Data.reset_index(drop=True)"
   ]
  },
  {
   "cell_type": "code",
   "execution_count": 13,
   "metadata": {
    "collapsed": false
   },
   "outputs": [],
   "source": [
    "new_Data = pd.DataFrame()\n",
    "new_Data['country_code'] = unique_countries\n",
    "result = 0.0\n",
    "new_Data['raised_amount_usd'] = 0\n",
    "new_Data['raised_amount_usd'] = new_Data['raised_amount_usd'].astype(long)\n",
    "\n",
    "for country in unique_countries:\n",
    "    result = 0.0\n",
    "    Index = new_Data.country_code[new_Data.country_code==country].index\n",
    "    indexes = (Data[Data['country_code']==country].index.tolist())\n",
    "    for i in indexes:\n",
    "        if i <= 80396:\n",
    "            result += Data.at[i,'raised_amount_usd']\n",
    "    new_Data.at[Index,'raised_amount_usd'] = result"
   ]
  },
  {
   "cell_type": "code",
   "execution_count": 14,
   "metadata": {
    "collapsed": false
   },
   "outputs": [
    {
     "name": "stdout",
     "output_type": "stream",
     "text": [
      "    country_code  raised_amount_usd\n",
      "0            ALB       1.500000e+05\n",
      "1            ANT       2.573200e+05\n",
      "2            ARE       4.516900e+08\n",
      "3            ARG       2.811082e+08\n",
      "4            AUS       2.108235e+09\n",
      "5            AUT       1.153724e+09\n",
      "6            AZE       1.200000e+05\n",
      "7            BEL       2.006034e+09\n",
      "8            BGD       1.740550e+08\n",
      "9            BGR       1.754287e+07\n",
      "10           BHR       2.000000e+04\n",
      "11           BHS       1.250000e+07\n",
      "12           BMU       8.150000e+08\n",
      "13           BRA       1.745224e+09\n",
      "14           CAN       2.014362e+10\n",
      "15           CHE       6.870531e+09\n",
      "16           CHL       6.219000e+07\n",
      "17           CHN       2.550011e+10\n",
      "18           COL       1.502855e+08\n",
      "19           CRI       1.600000e+05\n",
      "20           CSS       5.615800e+06\n",
      "21           CYM       7.612000e+07\n",
      "22           CYP       1.106819e+08\n",
      "23           CZE       6.976262e+08\n",
      "24           DEU       1.451798e+10\n",
      "25           DNK       1.841692e+09\n",
      "26           DOM       4.000000e+04\n",
      "27           ECU       8.000000e+04\n",
      "28           EGY       1.460640e+08\n",
      "29           ESP       4.102101e+09\n",
      "..           ...                ...\n",
      "72           PAN       4.533000e+06\n",
      "73           PER       1.175000e+05\n",
      "74           PHL       1.143701e+08\n",
      "75           POL       2.486870e+08\n",
      "76           PRT       3.034576e+08\n",
      "77           PST       8.235300e+04\n",
      "78           ROM       8.428100e+06\n",
      "79           RUS       4.693437e+09\n",
      "80           SAU       6.000000e+06\n",
      "81           SGP       1.505866e+09\n",
      "82           SLV       9.000000e+04\n",
      "83           SVK       7.676278e+06\n",
      "84           SVN       3.124048e+06\n",
      "85           SWE       4.214880e+09\n",
      "86           SWZ       2.114100e+07\n",
      "87           THA       1.757200e+07\n",
      "88           TUN       3.920000e+06\n",
      "89           TUR       9.802027e+07\n",
      "90           TWN       3.462268e+08\n",
      "91           TZA       2.100000e+07\n",
      "92           UGA       1.190000e+05\n",
      "93           UKR       9.896000e+06\n",
      "94           UMI       0.000000e+00\n",
      "95           URY       1.375000e+06\n",
      "96           USA       7.016940e+11\n",
      "97           VEN       9.000000e+04\n",
      "98           VNM       1.045000e+08\n",
      "99           ZAF       6.343200e+07\n",
      "100          ZMB       0.000000e+00\n",
      "101          ZWE       1.000000e+07\n",
      "\n",
      "[102 rows x 2 columns]\n"
     ]
    }
   ],
   "source": [
    "print new_Data"
   ]
  },
  {
   "cell_type": "code",
   "execution_count": 15,
   "metadata": {
    "collapsed": false
   },
   "outputs": [],
   "source": [
    "new_Data['contribution'] = 0\n",
    "for country in unique_countries:\n",
    "    result = 0.0\n",
    "    Index = new_Data.country_code[new_Data.country_code==country].index\n",
    "    for i in Index:\n",
    "        result = new_Data.at[i,'raised_amount_usd']\n",
    "    new_Data.at[Index,'contribution'] = result / 88400000000\n",
    "    "
   ]
  },
  {
   "cell_type": "code",
   "execution_count": 16,
   "metadata": {
    "collapsed": false
   },
   "outputs": [
    {
     "name": "stderr",
     "output_type": "stream",
     "text": [
      "C:\\Users\\zubai\\Anaconda2\\lib\\site-packages\\ipykernel\\__main__.py:1: FutureWarning:\n",
      "\n",
      "sort(columns=....) is deprecated, use sort_values(by=.....)\n",
      "\n"
     ]
    }
   ],
   "source": [
    "new_Data.sort(['raised_amount_usd'],ascending=False,inplace=True)"
   ]
  },
  {
   "cell_type": "code",
   "execution_count": 17,
   "metadata": {
    "collapsed": true
   },
   "outputs": [],
   "source": [
    "new_Data.to_csv(\"country_total_investments.csv\")"
   ]
  },
  {
   "cell_type": "code",
   "execution_count": 18,
   "metadata": {
    "collapsed": false
   },
   "outputs": [
    {
     "name": "stdout",
     "output_type": "stream",
     "text": [
      "Index([], dtype='object')\n"
     ]
    }
   ],
   "source": [
    "Data.drop(['country_code', 'raised_amount_usd'], axis=1, inplace=True)\n",
    "print Data.columns"
   ]
  },
  {
   "cell_type": "code",
   "execution_count": 19,
   "metadata": {
    "collapsed": false
   },
   "outputs": [
    {
     "name": "stdout",
     "output_type": "stream",
     "text": [
      "      funded_quarter raised_amount_usd\n",
      "0            2010-Q1          750,000 \n",
      "1            2012-Q2        1,750,000 \n",
      "2            2012-Q2        1,750,000 \n",
      "3            2012-Q2        1,750,000 \n",
      "4            2012-Q2        1,750,000 \n",
      "5            2012-Q2        1,750,000 \n",
      "6            2012-Q3           40,000 \n",
      "7            2007-Q1        4,912,394 \n",
      "9            2013-Q1        1,700,000 \n",
      "10           2013-Q1           40,000 \n",
      "13           2011-Q3           40,000 \n",
      "19           2010-Q1           15,000 \n",
      "20           2011-Q1        2,520,000 \n",
      "21           2011-Q1        2,520,000 \n",
      "22           2010-Q1           15,000 \n",
      "23           2011-Q1        2,520,000 \n",
      "24           2011-Q1        2,520,000 \n",
      "25           2011-Q1        2,520,000 \n",
      "26           2011-Q1        2,520,000 \n",
      "27           2011-Q1        2,520,000 \n",
      "28           2011-Q1        2,520,000 \n",
      "29           2013-Q4        1,736,910 \n",
      "32           2006-Q1        3,000,000 \n",
      "33           2011-Q4          750,000 \n",
      "34           2011-Q4          750,000 \n",
      "35           2011-Q4          500,000 \n",
      "36           2011-Q4          750,000 \n",
      "37           2010-Q1       35,000,000 \n",
      "47           2011-Q1        1,800,000 \n",
      "48           2012-Q2           20,000 \n",
      "...              ...               ...\n",
      "90250        2009-Q4       15,187,000 \n",
      "90251        2008-Q1       10,000,000 \n",
      "90252        2008-Q1       10,000,000 \n",
      "90254        2010-Q3       25,000,000 \n",
      "90255        2013-Q3        3,800,000 \n",
      "90256        2013-Q3        3,800,000 \n",
      "90257        2013-Q2       12,000,000 \n",
      "90258        2013-Q2       12,000,000 \n",
      "90259        2009-Q3        5,400,000 \n",
      "90260        2009-Q4        7,991,548 \n",
      "90261        2008-Q1        2,007,363 \n",
      "90262        2009-Q4        7,991,548 \n",
      "90263        2010-Q4           50,000 \n",
      "90264        2010-Q4          445,000 \n",
      "90265        2013-Q1        2,686,600 \n",
      "90266        2014-Q1          120,000 \n",
      "90267        2013-Q1           32,360 \n",
      "90268        2013-Q3           32,165 \n",
      "90270        2008-Q2       16,000,000 \n",
      "90271        2011-Q1       10,000,000 \n",
      "90272        2013-Q2       17,000,000 \n",
      "90273        2008-Q2       16,000,000 \n",
      "90274        2011-Q1       10,000,000 \n",
      "90275        2008-Q2       16,000,000 \n",
      "90276        2011-Q1       10,000,000 \n",
      "90277        2011-Q1       10,000,000 \n",
      "90278        2014-Q1       12,000,000 \n",
      "90279        2014-Q1       12,000,000 \n",
      "90280        2006-Q4           40,000 \n",
      "90281        2012-Q3           10,000 \n",
      "\n",
      "[78267 rows x 2 columns]\n"
     ]
    }
   ],
   "source": [
    "Data['funded_quarter'] = data.funded_quarter.copy()\n",
    "Data['raised_amount_usd'] = data[' raised_amount_usd '].copy()\n",
    "print Data"
   ]
  },
  {
   "cell_type": "code",
   "execution_count": 20,
   "metadata": {
    "collapsed": true
   },
   "outputs": [],
   "source": [
    "Data = Data[Data.funded_quarter.notnull()]\n",
    "Data = Data[Data.raised_amount_usd.notnull()]"
   ]
  },
  {
   "cell_type": "code",
   "execution_count": 21,
   "metadata": {
    "collapsed": false
   },
   "outputs": [
    {
     "name": "stdout",
     "output_type": "stream",
     "text": [
      "77\n"
     ]
    }
   ],
   "source": [
    "unique_quarter = np.unique(Data.funded_quarter)\n",
    "print len(unique_quarter)"
   ]
  },
  {
   "cell_type": "code",
   "execution_count": 22,
   "metadata": {
    "collapsed": true
   },
   "outputs": [],
   "source": [
    "Data['raised_amount_usd'] = Data['raised_amount_usd'].str.replace(',','')\n",
    "Data['raised_amount_usd'] = Data['raised_amount_usd'].astype(long)"
   ]
  },
  {
   "cell_type": "code",
   "execution_count": 23,
   "metadata": {
    "collapsed": false
   },
   "outputs": [],
   "source": [
    "new_Data = pd.DataFrame()\n",
    "new_Data['funded_quarter'] = unique_quarter\n",
    "result = 0.0\n",
    "new_Data['raised_amount_usd'] = 0\n",
    "new_Data['raised_amount_usd'] = new_Data['raised_amount_usd'].astype(long)\n",
    "\n",
    "for quarter in unique_quarter:\n",
    "    result = 0.0\n",
    "    Index = new_Data.funded_quarter[new_Data.funded_quarter==quarter].index\n",
    "    indexes = (Data[Data['funded_quarter']==quarter].index.tolist())\n",
    "    for i in indexes:\n",
    "        if i <= 90281:\n",
    "            result += Data.at[i,'raised_amount_usd']\n",
    "    new_Data.at[Index,'raised_amount_usd'] = result"
   ]
  },
  {
   "cell_type": "code",
   "execution_count": 24,
   "metadata": {
    "collapsed": false
   },
   "outputs": [],
   "source": [
    "new_Data.to_csv(\"funding_by_quarter.csv\")"
   ]
  },
  {
   "cell_type": "code",
   "execution_count": 25,
   "metadata": {
    "collapsed": false
   },
   "outputs": [
    {
     "name": "stdout",
     "output_type": "stream",
     "text": [
      "Index([], dtype='object')\n"
     ]
    }
   ],
   "source": [
    "Data.drop(['funded_quarter', 'raised_amount_usd'], axis=1, inplace=True)\n",
    "print Data.columns"
   ]
  },
  {
   "cell_type": "code",
   "execution_count": 26,
   "metadata": {
    "collapsed": false
   },
   "outputs": [
    {
     "name": "stdout",
     "output_type": "stream",
     "text": [
      "                         investor_name raised_amount_usd\n",
      "0                            Confrapar          750,000 \n",
      "1                  First Round Capital        1,750,000 \n",
      "2                 Innovation Endeavors        1,750,000 \n",
      "3                          Jeff Weiner        1,750,000 \n",
      "4                        Oprah Winfrey        1,750,000 \n",
      "5                          Troy Carter        1,750,000 \n",
      "6                       Start-Up Chile           40,000 \n",
      "7                      Foresight Group        4,912,394 \n",
      "9               Nexus Venture Partners        1,700,000 \n",
      "10                      Start-Up Chile           40,000 \n",
      "13                      Start-Up Chile           40,000 \n",
      "19                        Y Combinator           15,000 \n",
      "20                    Felicis Ventures        2,520,000 \n",
      "21                           FLOODGATE        2,520,000 \n",
      "22                  Founder Collective           15,000 \n",
      "23                   Greylock Partners        2,520,000 \n",
      "24                       Caterina Fake        2,520,000 \n",
      "25                         Chris Sacca        2,520,000 \n",
      "26                        Keith Rabois        2,520,000 \n",
      "27                       Paul Buchheit        2,520,000 \n",
      "28                          Ron Conway        2,520,000 \n",
      "29                      Elaia Partners        1,736,910 \n",
      "32                     iD TechVentures        3,000,000 \n",
      "33                      Band of Angels          750,000 \n",
      "34                    Felicis Ventures          750,000 \n",
      "35                       Founders Fund          500,000 \n",
      "36                   Greylock Partners          750,000 \n",
      "37            Norwest Venture Partners       35,000,000 \n",
      "47         Steel Pier Capital Advisors        1,800,000 \n",
      "48         The University of Melbourne           20,000 \n",
      "...                                ...               ...\n",
      "90250                       Kevin Rose       15,187,000 \n",
      "90251                      Peter Thiel       10,000,000 \n",
      "90252                     Reid Hoffman       10,000,000 \n",
      "90254        New Enterprise Associates       25,000,000 \n",
      "90255                          Octopus        3,800,000 \n",
      "90256                  Richard Brennan        3,800,000 \n",
      "90257  Bill & Melinda Gates Foundation       12,000,000 \n",
      "90258                            Mylan       12,000,000 \n",
      "90259         GizmoNET IntraWEB.NU PLC        5,400,000 \n",
      "90260        iExploreAsia Credit Union        7,991,548 \n",
      "90261           iExploreAsia Financial        2,007,363 \n",
      "90262                  Zyraz Financial        7,991,548 \n",
      "90263                    MassChallenge           50,000 \n",
      "90264          LaunchPad Venture Group          445,000 \n",
      "90265             Baxter International        2,686,600 \n",
      "90266                        Techstars          120,000 \n",
      "90267                           Eleven           32,360 \n",
      "90268                           Eleven           32,165 \n",
      "90270     Advanced Technology Ventures       16,000,000 \n",
      "90271     Advanced Technology Ventures       10,000,000 \n",
      "90272         Ares Capital Corporation       17,000,000 \n",
      "90273        Blue Chip Venture Company       16,000,000 \n",
      "90274        Blue Chip Venture Company       10,000,000 \n",
      "90275                  Hudson Ventures       16,000,000 \n",
      "90276                  Hudson Ventures       10,000,000 \n",
      "90277                    Intel Capital       10,000,000 \n",
      "90278                    KBI Biopharma       12,000,000 \n",
      "90279                   Lilly Ventures       12,000,000 \n",
      "90280                           Mic AG           40,000 \n",
      "90281                  Chinaccelerator           10,000 \n",
      "\n",
      "[78267 rows x 2 columns]\n"
     ]
    }
   ],
   "source": [
    "Data['investor_name'] = data.investor_name.copy()\n",
    "Data['raised_amount_usd'] = data[' raised_amount_usd '].copy()\n",
    "print Data"
   ]
  },
  {
   "cell_type": "code",
   "execution_count": 28,
   "metadata": {
    "collapsed": false
   },
   "outputs": [],
   "source": [
    "Data = Data[Data.investor_name.notnull()]\n",
    "Data = Data[Data.raised_amount_usd.notnull()]"
   ]
  },
  {
   "cell_type": "code",
   "execution_count": 29,
   "metadata": {
    "collapsed": false
   },
   "outputs": [
    {
     "name": "stdout",
     "output_type": "stream",
     "text": [
      "16363\n"
     ]
    }
   ],
   "source": [
    "unique_investors = np.unique(Data.investor_name)\n",
    "print len(unique_investors)"
   ]
  },
  {
   "cell_type": "code",
   "execution_count": 30,
   "metadata": {
    "collapsed": true
   },
   "outputs": [],
   "source": [
    "Data['raised_amount_usd'] = Data['raised_amount_usd'].str.replace(',','')\n",
    "Data['raised_amount_usd'] = Data['raised_amount_usd'].astype(long)"
   ]
  },
  {
   "cell_type": "code",
   "execution_count": 31,
   "metadata": {
    "collapsed": true
   },
   "outputs": [],
   "source": [
    "new_Data = pd.DataFrame()\n",
    "new_Data['investor_name'] = unique_investors\n",
    "result = 0.0\n",
    "new_Data['raised_amount_usd'] = 0\n",
    "new_Data['raised_amount_usd'] = new_Data['raised_amount_usd'].astype(long)\n",
    "\n",
    "for investor in unique_investors:\n",
    "    result = 0.0\n",
    "    Index = new_Data.investor_name[new_Data.investor_name==investor].index\n",
    "    indexes = (Data[Data['investor_name']==investor].index.tolist())\n",
    "    for i in indexes:\n",
    "        if i <= 16363:\n",
    "            result += Data.at[i,'raised_amount_usd']\n",
    "    new_Data.at[Index,'raised_amount_usd'] = result"
   ]
  },
  {
   "cell_type": "code",
   "execution_count": 33,
   "metadata": {
    "collapsed": false
   },
   "outputs": [
    {
     "name": "stderr",
     "output_type": "stream",
     "text": [
      "C:\\Users\\zubai\\Anaconda2\\lib\\site-packages\\ipykernel\\__main__.py:1: FutureWarning:\n",
      "\n",
      "sort(columns=....) is deprecated, use sort_values(by=.....)\n",
      "\n"
     ]
    }
   ],
   "source": [
    "new_Data.sort(['raised_amount_usd'],ascending=False,inplace=True)"
   ]
  },
  {
   "cell_type": "code",
   "execution_count": 36,
   "metadata": {
    "collapsed": false
   },
   "outputs": [],
   "source": [
    "new_Data[:10].to_csv(\"Investments_by_investors.csv\")"
   ]
  },
  {
   "cell_type": "code",
   "execution_count": 38,
   "metadata": {
    "collapsed": false
   },
   "outputs": [
    {
     "name": "stdout",
     "output_type": "stream",
     "text": [
      "Index([], dtype='object')\n"
     ]
    }
   ],
   "source": [
    "Data.drop(['investor_name', 'raised_amount_usd'], axis=1, inplace=True)\n",
    "print Data.columns"
   ]
  },
  {
   "cell_type": "code",
   "execution_count": 39,
   "metadata": {
    "collapsed": false
   },
   "outputs": [
    {
     "name": "stdout",
     "output_type": "stream",
     "text": [
      "          status  freq\n",
      "0      operating     0\n",
      "1       acquired     0\n",
      "2       acquired     0\n",
      "3       acquired     0\n",
      "4       acquired     0\n",
      "5       acquired     0\n",
      "6      operating     0\n",
      "7         closed     0\n",
      "9      operating     0\n",
      "10     operating     0\n",
      "13     operating     0\n",
      "19      acquired     0\n",
      "20      acquired     0\n",
      "21      acquired     0\n",
      "22      acquired     0\n",
      "23      acquired     0\n",
      "24      acquired     0\n",
      "25      acquired     0\n",
      "26      acquired     0\n",
      "27      acquired     0\n",
      "28      acquired     0\n",
      "29     operating     0\n",
      "32     operating     0\n",
      "33      acquired     0\n",
      "34      acquired     0\n",
      "35      acquired     0\n",
      "36      acquired     0\n",
      "37     operating     0\n",
      "47        closed     0\n",
      "48     operating     0\n",
      "...          ...   ...\n",
      "90250        ipo     0\n",
      "90251        ipo     0\n",
      "90252        ipo     0\n",
      "90254  operating     0\n",
      "90255  operating     0\n",
      "90256  operating     0\n",
      "90257  operating     0\n",
      "90258  operating     0\n",
      "90259     closed     0\n",
      "90260     closed     0\n",
      "90261     closed     0\n",
      "90262     closed     0\n",
      "90263  operating     0\n",
      "90264  operating     0\n",
      "90265  operating     0\n",
      "90266  operating     0\n",
      "90267  operating     0\n",
      "90268  operating     0\n",
      "90270  operating     0\n",
      "90271  operating     0\n",
      "90272  operating     0\n",
      "90273  operating     0\n",
      "90274  operating     0\n",
      "90275  operating     0\n",
      "90276  operating     0\n",
      "90277  operating     0\n",
      "90278  operating     0\n",
      "90279  operating     0\n",
      "90280  operating     0\n",
      "90281  operating     0\n",
      "\n",
      "[78267 rows x 2 columns]\n"
     ]
    }
   ],
   "source": [
    "Data['status'] = data.status.copy()\n",
    "Data['freq'] = 0\n",
    "print Data"
   ]
  },
  {
   "cell_type": "code",
   "execution_count": 41,
   "metadata": {
    "collapsed": false
   },
   "outputs": [
    {
     "name": "stderr",
     "output_type": "stream",
     "text": [
      "C:\\Users\\zubai\\Anaconda2\\lib\\site-packages\\ipykernel\\__main__.py:1: SettingWithCopyWarning:\n",
      "\n",
      "\n",
      "A value is trying to be set on a copy of a slice from a DataFrame\n",
      "\n",
      "See the caveats in the documentation: http://pandas.pydata.org/pandas-docs/stable/indexing.html#indexing-view-versus-copy\n",
      "\n"
     ]
    }
   ],
   "source": [
    "Data.status[Data['status']!='acquired'] = 'not acquired'"
   ]
  },
  {
   "cell_type": "code",
   "execution_count": 42,
   "metadata": {
    "collapsed": false
   },
   "outputs": [
    {
     "name": "stdout",
     "output_type": "stream",
     "text": [
      "             status  freq\n",
      "0      not acquired     0\n",
      "1          acquired     0\n",
      "2          acquired     0\n",
      "3          acquired     0\n",
      "4          acquired     0\n",
      "5          acquired     0\n",
      "6      not acquired     0\n",
      "7      not acquired     0\n",
      "9      not acquired     0\n",
      "10     not acquired     0\n",
      "13     not acquired     0\n",
      "19         acquired     0\n",
      "20         acquired     0\n",
      "21         acquired     0\n",
      "22         acquired     0\n",
      "23         acquired     0\n",
      "24         acquired     0\n",
      "25         acquired     0\n",
      "26         acquired     0\n",
      "27         acquired     0\n",
      "28         acquired     0\n",
      "29     not acquired     0\n",
      "32     not acquired     0\n",
      "33         acquired     0\n",
      "34         acquired     0\n",
      "35         acquired     0\n",
      "36         acquired     0\n",
      "37     not acquired     0\n",
      "47     not acquired     0\n",
      "48     not acquired     0\n",
      "...             ...   ...\n",
      "90250  not acquired     0\n",
      "90251  not acquired     0\n",
      "90252  not acquired     0\n",
      "90254  not acquired     0\n",
      "90255  not acquired     0\n",
      "90256  not acquired     0\n",
      "90257  not acquired     0\n",
      "90258  not acquired     0\n",
      "90259  not acquired     0\n",
      "90260  not acquired     0\n",
      "90261  not acquired     0\n",
      "90262  not acquired     0\n",
      "90263  not acquired     0\n",
      "90264  not acquired     0\n",
      "90265  not acquired     0\n",
      "90266  not acquired     0\n",
      "90267  not acquired     0\n",
      "90268  not acquired     0\n",
      "90270  not acquired     0\n",
      "90271  not acquired     0\n",
      "90272  not acquired     0\n",
      "90273  not acquired     0\n",
      "90274  not acquired     0\n",
      "90275  not acquired     0\n",
      "90276  not acquired     0\n",
      "90277  not acquired     0\n",
      "90278  not acquired     0\n",
      "90279  not acquired     0\n",
      "90280  not acquired     0\n",
      "90281  not acquired     0\n",
      "\n",
      "[78267 rows x 2 columns]\n"
     ]
    }
   ],
   "source": [
    "print Data"
   ]
  },
  {
   "cell_type": "code",
   "execution_count": 46,
   "metadata": {
    "collapsed": false
   },
   "outputs": [
    {
     "name": "stdout",
     "output_type": "stream",
     "text": [
      "11615\n"
     ]
    }
   ],
   "source": [
    "print len(Data.status[Data['status']=='acquired'])"
   ]
  },
  {
   "cell_type": "code",
   "execution_count": 47,
   "metadata": {
    "collapsed": false
   },
   "outputs": [
    {
     "name": "stdout",
     "output_type": "stream",
     "text": [
      "66652\n"
     ]
    }
   ],
   "source": [
    "print len(Data.status[Data['status']!='acquired'])"
   ]
  },
  {
   "cell_type": "code",
   "execution_count": 54,
   "metadata": {
    "collapsed": false
   },
   "outputs": [
    {
     "name": "stdout",
     "output_type": "stream",
     "text": [
      "Index([], dtype='object')\n"
     ]
    }
   ],
   "source": [
    "Data.drop(['category_code', 'raised_amount_usd'], axis=1, inplace=True)\n",
    "print Data.columns"
   ]
  },
  {
   "cell_type": "code",
   "execution_count": 55,
   "metadata": {
    "collapsed": false
   },
   "outputs": [
    {
     "name": "stdout",
     "output_type": "stream",
     "text": [
      "      category_code  freq\n",
      "0           finance     0\n",
      "1              news     0\n",
      "2              news     0\n",
      "3              news     0\n",
      "4              news     0\n",
      "5              news     0\n",
      "6         education     0\n",
      "7       advertising     0\n",
      "9         analytics     0\n",
      "10        ecommerce     0\n",
      "13           search     0\n",
      "19              web     0\n",
      "20              web     0\n",
      "21              web     0\n",
      "22              web     0\n",
      "23              web     0\n",
      "24              web     0\n",
      "25              web     0\n",
      "26              web     0\n",
      "27              web     0\n",
      "28              web     0\n",
      "29              web     0\n",
      "32        education     0\n",
      "33        analytics     0\n",
      "34        analytics     0\n",
      "35        analytics     0\n",
      "36        analytics     0\n",
      "37         software     0\n",
      "47       enterprise     0\n",
      "48           mobile     0\n",
      "...             ...   ...\n",
      "90250   games_video     0\n",
      "90251   games_video     0\n",
      "90252   games_video     0\n",
      "90254       biotech     0\n",
      "90255      software     0\n",
      "90256      software     0\n",
      "90257       biotech     0\n",
      "90258       biotech     0\n",
      "90259       biotech     0\n",
      "90260       biotech     0\n",
      "90261       biotech     0\n",
      "90262       biotech     0\n",
      "90263     ecommerce     0\n",
      "90264     ecommerce     0\n",
      "90265       biotech     0\n",
      "90266     education     0\n",
      "90267        mobile     0\n",
      "90268        mobile     0\n",
      "90270    enterprise     0\n",
      "90271    enterprise     0\n",
      "90272    enterprise     0\n",
      "90273    enterprise     0\n",
      "90274    enterprise     0\n",
      "90275    enterprise     0\n",
      "90276    enterprise     0\n",
      "90277    enterprise     0\n",
      "90278       biotech     0\n",
      "90279       biotech     0\n",
      "90280      hardware     0\n",
      "90281        mobile     0\n",
      "\n",
      "[77503 rows x 2 columns]\n"
     ]
    }
   ],
   "source": [
    "Data['category_code'] = data.category_code.copy()\n",
    "Data['freq'] = 0\n",
    "print Data"
   ]
  },
  {
   "cell_type": "code",
   "execution_count": 56,
   "metadata": {
    "collapsed": true
   },
   "outputs": [],
   "source": [
    "Data = Data[Data.category_code.notnull()]"
   ]
  },
  {
   "cell_type": "code",
   "execution_count": 57,
   "metadata": {
    "collapsed": false
   },
   "outputs": [],
   "source": [
    "unique_categories = np.unique(Data.category_code)"
   ]
  },
  {
   "cell_type": "code",
   "execution_count": 58,
   "metadata": {
    "collapsed": false
   },
   "outputs": [
    {
     "name": "stdout",
     "output_type": "stream",
     "text": [
      "43\n"
     ]
    }
   ],
   "source": [
    "print len(unique_categories)"
   ]
  },
  {
   "cell_type": "code",
   "execution_count": 59,
   "metadata": {
    "collapsed": true
   },
   "outputs": [],
   "source": [
    "new_Data = pd.DataFrame()\n",
    "new_Data['category_code'] = unique_categories\n",
    "result = 0.0\n",
    "new_Data['freq'] = 0\n",
    "\n",
    "for category in unique_categories:\n",
    "    result = 0.0\n",
    "    Index = new_Data.category_code[new_Data.category_code==category].index\n",
    "    indexes = (Data[Data['category_code']==category].index.tolist())\n",
    "    new_Data.at[Index,'freq'] = len(indexes)"
   ]
  },
  {
   "cell_type": "code",
   "execution_count": 60,
   "metadata": {
    "collapsed": false
   },
   "outputs": [
    {
     "name": "stdout",
     "output_type": "stream",
     "text": [
      "       category_code   freq\n",
      "0        advertising   4227\n",
      "1          analytics   2656\n",
      "2         automotive    217\n",
      "3            biotech   7620\n",
      "4          cleantech   2778\n",
      "5         consulting    430\n",
      "6             design    147\n",
      "7          ecommerce   4015\n",
      "8          education   1423\n",
      "9         enterprise   5945\n",
      "10           fashion    628\n",
      "11           finance   1736\n",
      "12       games_video   2732\n",
      "13        government     16\n",
      "14          hardware   2505\n",
      "15            health   1094\n",
      "16       hospitality    613\n",
      "17             legal    129\n",
      "18             local     66\n",
      "19     manufacturing    675\n",
      "20           medical   2256\n",
      "21         messaging    840\n",
      "22            mobile   5774\n",
      "23             music    524\n",
      "24          nanotech    348\n",
      "25   network_hosting   1639\n",
      "26              news    722\n",
      "27         nonprofit    206\n",
      "28             other    754\n",
      "29              pets     64\n",
      "30       photo_video    501\n",
      "31   public_relation      4\n",
      "32  public_relations    331\n",
      "33       real_estate    380\n",
      "34            search    734\n",
      "35          security   1665\n",
      "36     semiconductor   2065\n",
      "37            social   1776\n",
      "38          software  10538\n",
      "39            sports    252\n",
      "40    transportation    325\n",
      "41            travel    753\n",
      "42               web   5400\n"
     ]
    }
   ],
   "source": [
    "print new_Data"
   ]
  },
  {
   "cell_type": "code",
   "execution_count": 61,
   "metadata": {
    "collapsed": false
   },
   "outputs": [
    {
     "name": "stderr",
     "output_type": "stream",
     "text": [
      "C:\\Users\\zubai\\Anaconda2\\lib\\site-packages\\ipykernel\\__main__.py:1: FutureWarning:\n",
      "\n",
      "sort(columns=....) is deprecated, use sort_values(by=.....)\n",
      "\n"
     ]
    }
   ],
   "source": [
    "new_Data.sort(['freq'],ascending=False,inplace=True)"
   ]
  },
  {
   "cell_type": "code",
   "execution_count": 62,
   "metadata": {
    "collapsed": false
   },
   "outputs": [
    {
     "name": "stdout",
     "output_type": "stream",
     "text": [
      "       category_code   freq\n",
      "38          software  10538\n",
      "3            biotech   7620\n",
      "9         enterprise   5945\n",
      "22            mobile   5774\n",
      "42               web   5400\n",
      "0        advertising   4227\n",
      "7          ecommerce   4015\n",
      "4          cleantech   2778\n",
      "12       games_video   2732\n",
      "1          analytics   2656\n",
      "14          hardware   2505\n",
      "20           medical   2256\n",
      "36     semiconductor   2065\n",
      "37            social   1776\n",
      "11           finance   1736\n",
      "35          security   1665\n",
      "25   network_hosting   1639\n",
      "8          education   1423\n",
      "15            health   1094\n",
      "21         messaging    840\n",
      "28             other    754\n",
      "41            travel    753\n",
      "34            search    734\n",
      "26              news    722\n",
      "19     manufacturing    675\n",
      "10           fashion    628\n",
      "16       hospitality    613\n",
      "23             music    524\n",
      "30       photo_video    501\n",
      "5         consulting    430\n",
      "33       real_estate    380\n",
      "24          nanotech    348\n",
      "32  public_relations    331\n",
      "40    transportation    325\n",
      "39            sports    252\n",
      "2         automotive    217\n",
      "27         nonprofit    206\n",
      "6             design    147\n",
      "17             legal    129\n",
      "18             local     66\n",
      "29              pets     64\n",
      "13        government     16\n",
      "31   public_relation      4\n"
     ]
    }
   ],
   "source": [
    "print new_Data"
   ]
  },
  {
   "cell_type": "code",
   "execution_count": 63,
   "metadata": {
    "collapsed": true
   },
   "outputs": [],
   "source": [
    "new_Data[:10].to_csv(\"category_freq.csv\")"
   ]
  },
  {
   "cell_type": "code",
   "execution_count": null,
   "metadata": {
    "collapsed": true
   },
   "outputs": [],
   "source": []
  }
 ],
 "metadata": {
  "kernelspec": {
   "display_name": "Python 2",
   "language": "python",
   "name": "python2"
  },
  "language_info": {
   "codemirror_mode": {
    "name": "ipython",
    "version": 2
   },
   "file_extension": ".py",
   "mimetype": "text/x-python",
   "name": "python",
   "nbconvert_exporter": "python",
   "pygments_lexer": "ipython2",
   "version": "2.7.11"
  }
 },
 "nbformat": 4,
 "nbformat_minor": 0
}
